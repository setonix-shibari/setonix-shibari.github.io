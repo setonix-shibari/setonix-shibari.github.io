{
  "cells": [
    {
      "cell_type": "markdown",
      "metadata": {},
      "source": [
        "---\n",
        "title: \"\"\n",
        "listing:\n",
        "  id: front-page-listings\n",
        "  contents: posts\n",
        "  include: \n",
        "    frontpage: true\n",
        "  sort: \"date desc\"\n",
        "  type: grid\n",
        "  max-items: 6\n",
        "  categories: false\n",
        "  sort-ui: false\n",
        "  filter-ui: false\n",
        "  date-format: iso\n",
        "  image-height: 200px\n",
        "  fields: [date, title, image, description, categories]\n",
        "page-layout: full\n",
        "title-block-banner: false\n",
        "---\n",
        "\n",
        "```{html}\n",
        "<!-- Age Verification Popup -->\n",
        "    <div id=\"age-verification\">\n",
        "        <h2>Are you over 18 years old?</h2>\n",
        "        <button id=\"confirm\" onclick=\"setCookieAndAllowAccess()\">Yes</button>\n",
        "        <button id=\"deny\" onclick=\"denyAccess()\">No</button>\n",
        "    </div>\n",
        "```\n",
        "\n",
        "\n",
        "I attended my first shibari workshop in October 2023 and quickly became hooked on rope. I'm known for colourful self-tied corsets and intricate improvised designs. I've started adding very basic demos/tutorials and hoping to improve these soon.\n",
        "\n",
        "::: {#front-page-listings}\n",
        ":::\n",
        "\n",
        "See [more posts](posts/) to search for photos, videos, and tutorials."
      ],
      "id": "2a437030"
    }
  ],
  "metadata": {
    "kernelspec": {
      "display_name": "Python 3",
      "language": "python",
      "name": "python3"
    }
  },
  "nbformat": 4,
  "nbformat_minor": 5
}